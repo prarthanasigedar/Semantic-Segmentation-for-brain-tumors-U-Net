{
  "nbformat": 4,
  "nbformat_minor": 0,
  "metadata": {
    "colab": {
      "name": "dice_loss.ipynb",
      "provenance": [],
      "authorship_tag": "ABX9TyNQ7AP3AWq5BFle/3mY+ByI",
      "include_colab_link": true
    },
    "kernelspec": {
      "name": "python3",
      "display_name": "Python 3"
    }
  },
  "cells": [
    {
      "cell_type": "markdown",
      "metadata": {
        "id": "view-in-github",
        "colab_type": "text"
      },
      "source": [
        "<a href=\"https://colab.research.google.com/github/prarthanasigedar/Semantic-Segmentation-for-brain-tumors-U-Net/blob/master/dice_loss.ipynb\" target=\"_parent\"><img src=\"https://colab.research.google.com/assets/colab-badge.svg\" alt=\"Open In Colab\"/></a>"
      ]
    },
    {
      "cell_type": "code",
      "metadata": {
        "id": "fi9fiVr-Z7cE",
        "colab_type": "code",
        "colab": {}
      },
      "source": [
        "# Computing the Dice Scores for individual slices and then the Mean Dice Score and Dice Loss\n",
        "\n",
        "# For non-tumor and background region:\n",
        "def dice_coef_0(y_true, y_pred,smooth=0.000001):\n",
        "    y_true_f = K.flatten(y_true[:,:,:,0])\n",
        "    y_pred_f = K.flatten(y_pred[:,:,:,0])\n",
        "    intersection = K.sum(y_true_f * y_pred_f)\n",
        "    return (2. * intersection + smooth) / (K.sum(y_true_f) + K.sum(y_pred_f) + smooth)\n",
        "\n",
        "# For necrosis:\n",
        "def dice_coef_1(y_true, y_pred,smooth=0.000001):\n",
        "    y_true_f = K.flatten(y_true[:,:,:,1])\n",
        "    y_pred_f = K.flatten(y_pred[:,:,:,1])\n",
        "    intersection = K.sum(y_true_f * y_pred_f)\n",
        "    return (2. * intersection + smooth) / (K.sum(y_true_f) + K.sum(y_pred_f) + smooth)\n",
        "\n",
        "# For edema:\n",
        "def dice_coef_2(y_true, y_pred,smooth=0.000001):\n",
        "    y_true_f = K.flatten(y_true[:,:,:,2])\n",
        "    y_pred_f = K.flatten(y_pred[:,:,:,2])\n",
        "    intersection = K.sum(y_true_f * y_pred_f)\n",
        "    return (2. * intersection + smooth) / (K.sum(y_true_f) + K.sum(y_pred_f) + smooth)\n",
        "\n",
        "#def dice_coef_3(y_true, y_pred,smooth=0.000001):\n",
        "#    y_true_f = K.flatten(y_true[:,:,:,3])\n",
        "#    y_pred_f = K.flatten(y_pred[:,:,:,3])\n",
        "#    intersection = K.sum(y_true_f * y_pred_f)\n",
        "#    return (2. * intersection + smooth) / (K.sum(y_true_f) + K.sum(y_pred_f) + smooth)\n",
        "\n",
        "# For Enhancing Tumor (ET):\n",
        "def dice_coef_4(y_true, y_pred,smooth=0.000001):\n",
        "    y_true_f = K.flatten(y_true[:,:,:,4])\n",
        "    y_pred_f = K.flatten(y_pred[:,:,:,4])\n",
        "    intersection = K.sum(y_true_f * y_pred_f)\n",
        "    return (2. * intersection + smooth) / (K.sum(y_true_f) + K.sum(y_pred_f) + smooth)\n",
        "\n",
        "# Since label 3 is not there in the BraTS 2019 dataset, we ignore it in the calcuation of Mean Dice Score\n",
        "# The mean dice score is the mean of the dice scores of all the individual regions.\n",
        "def dice_score(y_true, y_pred):\n",
        "    d0 = dice_coef_0(y_true, y_pred,smooth=0.000001)\n",
        "    d1 = dice_coef_1(y_true, y_pred,smooth=0.000001)\n",
        "    d2 = dice_coef_2(y_true, y_pred,smooth=0.000001)\n",
        "    #d3 = dice_coef_3(y_true, y_pred,smooth=0.000001)\n",
        "    d4 = dice_coef_4(y_true, y_pred,smooth=0.000001)\n",
        "\n",
        "    dice_mean = (d0+d1+d2+d4)/4\n",
        "    return dice_mean\n",
        "\n",
        "def dice_loss(y_true, y_pred):\n",
        "    return 1-dice_score(y_true, y_pred)"
      ],
      "execution_count": null,
      "outputs": []
    }
  ]
}