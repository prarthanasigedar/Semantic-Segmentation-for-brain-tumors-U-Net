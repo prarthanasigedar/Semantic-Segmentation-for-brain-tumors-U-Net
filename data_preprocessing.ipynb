{
  "nbformat": 4,
  "nbformat_minor": 0,
  "metadata": {
    "colab": {
      "name": "data_preprocessing.ipynb",
      "provenance": [],
      "collapsed_sections": [],
      "toc_visible": true,
      "machine_shape": "hm",
      "include_colab_link": true
    },
    "kernelspec": {
      "name": "python3",
      "display_name": "Python 3"
    },
    "accelerator": "GPU"
  },
  "cells": [
    {
      "cell_type": "markdown",
      "metadata": {
        "id": "view-in-github",
        "colab_type": "text"
      },
      "source": [
        "<a href=\"https://colab.research.google.com/github/prarthanasigedar/Semantic-Segmentation-for-brain-tumors-U-Net/blob/master/data_preprocessing.ipynb\" target=\"_parent\"><img src=\"https://colab.research.google.com/assets/colab-badge.svg\" alt=\"Open In Colab\"/></a>"
      ]
    },
    {
      "cell_type": "code",
      "metadata": {
        "id": "Ha8O5Y-aBqVz",
        "colab_type": "code",
        "colab": {
          "base_uri": "https://localhost:8080/",
          "height": 124
        },
        "outputId": "42debb86-5279-489c-bdbf-d6a36af2eeba"
      },
      "source": [
        "from google.colab import drive\n",
        "drive.mount('/content/drive')"
      ],
      "execution_count": null,
      "outputs": [
        {
          "output_type": "stream",
          "text": [
            "Go to this URL in a browser: https://accounts.google.com/o/oauth2/auth?client_id=947318989803-6bn6qk8qdgf4n4g3pfee6491hc0brc4i.apps.googleusercontent.com&redirect_uri=urn%3aietf%3awg%3aoauth%3a2.0%3aoob&response_type=code&scope=email%20https%3a%2f%2fwww.googleapis.com%2fauth%2fdocs.test%20https%3a%2f%2fwww.googleapis.com%2fauth%2fdrive%20https%3a%2f%2fwww.googleapis.com%2fauth%2fdrive.photos.readonly%20https%3a%2f%2fwww.googleapis.com%2fauth%2fpeopleapi.readonly\n",
            "\n",
            "Enter your authorization code:\n",
            "··········\n",
            "Mounted at /content/drive\n"
          ],
          "name": "stdout"
        }
      ]
    },
    {
      "cell_type": "code",
      "metadata": {
        "id": "CZ1vn_-Zm3QK",
        "colab_type": "code",
        "colab": {
          "base_uri": "https://localhost:8080/",
          "height": 34
        },
        "outputId": "9f093285-0f14-4bc2-b7c1-70ecdcc05094"
      },
      "source": [
        "%tensorflow_version 1.x"
      ],
      "execution_count": null,
      "outputs": [
        {
          "output_type": "stream",
          "text": [
            "TensorFlow 1.x selected.\n"
          ],
          "name": "stdout"
        }
      ]
    },
    {
      "cell_type": "code",
      "metadata": {
        "id": "QcVqQAfe65sT",
        "colab_type": "code",
        "colab": {
          "base_uri": "https://localhost:8080/",
          "height": 208
        },
        "outputId": "56e5b08f-900a-4c08-b189-00672937fe09"
      },
      "source": [
        "pip install nilearn"
      ],
      "execution_count": null,
      "outputs": [
        {
          "output_type": "stream",
          "text": [
            "Collecting nilearn\n",
            "\u001b[?25l  Downloading https://files.pythonhosted.org/packages/b9/c2/f5f1bdd37a3da28b3b34305e4ba27cce468db6073998d62a38abd0e281da/nilearn-0.6.2-py3-none-any.whl (2.5MB)\n",
            "\r\u001b[K     |▏                               | 10kB 26.9MB/s eta 0:00:01\r\u001b[K     |▎                               | 20kB 2.9MB/s eta 0:00:01\r\u001b[K     |▍                               | 30kB 3.9MB/s eta 0:00:01\r\u001b[K     |▌                               | 40kB 4.2MB/s eta 0:00:01\r\u001b[K     |▊                               | 51kB 3.4MB/s eta 0:00:01\r\u001b[K     |▉                               | 61kB 3.8MB/s eta 0:00:01\r\u001b[K     |█                               | 71kB 4.2MB/s eta 0:00:01\r\u001b[K     |█                               | 81kB 4.5MB/s eta 0:00:01\r\u001b[K     |█▏                              | 92kB 4.8MB/s eta 0:00:01\r\u001b[K     |█▍                              | 102kB 4.6MB/s eta 0:00:01\r\u001b[K     |█▌                              | 112kB 4.6MB/s eta 0:00:01\r\u001b[K     |█▋                              | 122kB 4.6MB/s eta 0:00:01\r\u001b[K     |█▊                              | 133kB 4.6MB/s eta 0:00:01\r\u001b[K     |█▉                              | 143kB 4.6MB/s eta 0:00:01\r\u001b[K     |██                              | 153kB 4.6MB/s eta 0:00:01\r\u001b[K     |██▏                             | 163kB 4.6MB/s eta 0:00:01\r\u001b[K     |██▎                             | 174kB 4.6MB/s eta 0:00:01\r\u001b[K     |██▍                             | 184kB 4.6MB/s eta 0:00:01\r\u001b[K     |██▌                             | 194kB 4.6MB/s eta 0:00:01\r\u001b[K     |██▊                             | 204kB 4.6MB/s eta 0:00:01\r\u001b[K     |██▉                             | 215kB 4.6MB/s eta 0:00:01\r\u001b[K     |███                             | 225kB 4.6MB/s eta 0:00:01\r\u001b[K     |███                             | 235kB 4.6MB/s eta 0:00:01\r\u001b[K     |███▏                            | 245kB 4.6MB/s eta 0:00:01\r\u001b[K     |███▍                            | 256kB 4.6MB/s eta 0:00:01\r\u001b[K     |███▌                            | 266kB 4.6MB/s eta 0:00:01\r\u001b[K     |███▋                            | 276kB 4.6MB/s eta 0:00:01\r\u001b[K     |███▊                            | 286kB 4.6MB/s eta 0:00:01\r\u001b[K     |███▉                            | 296kB 4.6MB/s eta 0:00:01\r\u001b[K     |████                            | 307kB 4.6MB/s eta 0:00:01\r\u001b[K     |████▏                           | 317kB 4.6MB/s eta 0:00:01\r\u001b[K     |████▎                           | 327kB 4.6MB/s eta 0:00:01\r\u001b[K     |████▍                           | 337kB 4.6MB/s eta 0:00:01\r\u001b[K     |████▌                           | 348kB 4.6MB/s eta 0:00:01\r\u001b[K     |████▊                           | 358kB 4.6MB/s eta 0:00:01\r\u001b[K     |████▉                           | 368kB 4.6MB/s eta 0:00:01\r\u001b[K     |█████                           | 378kB 4.6MB/s eta 0:00:01\r\u001b[K     |█████                           | 389kB 4.6MB/s eta 0:00:01\r\u001b[K     |█████▏                          | 399kB 4.6MB/s eta 0:00:01\r\u001b[K     |█████▍                          | 409kB 4.6MB/s eta 0:00:01\r\u001b[K     |█████▌                          | 419kB 4.6MB/s eta 0:00:01\r\u001b[K     |█████▋                          | 430kB 4.6MB/s eta 0:00:01\r\u001b[K     |█████▊                          | 440kB 4.6MB/s eta 0:00:01\r\u001b[K     |█████▉                          | 450kB 4.6MB/s eta 0:00:01\r\u001b[K     |██████                          | 460kB 4.6MB/s eta 0:00:01\r\u001b[K     |██████▏                         | 471kB 4.6MB/s eta 0:00:01\r\u001b[K     |██████▎                         | 481kB 4.6MB/s eta 0:00:01\r\u001b[K     |██████▍                         | 491kB 4.6MB/s eta 0:00:01\r\u001b[K     |██████▌                         | 501kB 4.6MB/s eta 0:00:01\r\u001b[K     |██████▊                         | 512kB 4.6MB/s eta 0:00:01\r\u001b[K     |██████▉                         | 522kB 4.6MB/s eta 0:00:01\r\u001b[K     |███████                         | 532kB 4.6MB/s eta 0:00:01\r\u001b[K     |███████                         | 542kB 4.6MB/s eta 0:00:01\r\u001b[K     |███████▏                        | 552kB 4.6MB/s eta 0:00:01\r\u001b[K     |███████▍                        | 563kB 4.6MB/s eta 0:00:01\r\u001b[K     |███████▌                        | 573kB 4.6MB/s eta 0:00:01\r\u001b[K     |███████▋                        | 583kB 4.6MB/s eta 0:00:01\r\u001b[K     |███████▊                        | 593kB 4.6MB/s eta 0:00:01\r\u001b[K     |███████▉                        | 604kB 4.6MB/s eta 0:00:01\r\u001b[K     |████████                        | 614kB 4.6MB/s eta 0:00:01\r\u001b[K     |████████▏                       | 624kB 4.6MB/s eta 0:00:01\r\u001b[K     |████████▎                       | 634kB 4.6MB/s eta 0:00:01\r\u001b[K     |████████▍                       | 645kB 4.6MB/s eta 0:00:01\r\u001b[K     |████████▌                       | 655kB 4.6MB/s eta 0:00:01\r\u001b[K     |████████▊                       | 665kB 4.6MB/s eta 0:00:01\r\u001b[K     |████████▉                       | 675kB 4.6MB/s eta 0:00:01\r\u001b[K     |█████████                       | 686kB 4.6MB/s eta 0:00:01\r\u001b[K     |█████████                       | 696kB 4.6MB/s eta 0:00:01\r\u001b[K     |█████████▏                      | 706kB 4.6MB/s eta 0:00:01\r\u001b[K     |█████████▍                      | 716kB 4.6MB/s eta 0:00:01\r\u001b[K     |█████████▌                      | 727kB 4.6MB/s eta 0:00:01\r\u001b[K     |█████████▋                      | 737kB 4.6MB/s eta 0:00:01\r\u001b[K     |█████████▊                      | 747kB 4.6MB/s eta 0:00:01\r\u001b[K     |█████████▉                      | 757kB 4.6MB/s eta 0:00:01\r\u001b[K     |██████████                      | 768kB 4.6MB/s eta 0:00:01\r\u001b[K     |██████████▏                     | 778kB 4.6MB/s eta 0:00:01\r\u001b[K     |██████████▎                     | 788kB 4.6MB/s eta 0:00:01\r\u001b[K     |██████████▍                     | 798kB 4.6MB/s eta 0:00:01\r\u001b[K     |██████████▌                     | 808kB 4.6MB/s eta 0:00:01\r\u001b[K     |██████████▊                     | 819kB 4.6MB/s eta 0:00:01\r\u001b[K     |██████████▉                     | 829kB 4.6MB/s eta 0:00:01\r\u001b[K     |███████████                     | 839kB 4.6MB/s eta 0:00:01\r\u001b[K     |███████████                     | 849kB 4.6MB/s eta 0:00:01\r\u001b[K     |███████████▏                    | 860kB 4.6MB/s eta 0:00:01\r\u001b[K     |███████████▍                    | 870kB 4.6MB/s eta 0:00:01\r\u001b[K     |███████████▌                    | 880kB 4.6MB/s eta 0:00:01\r\u001b[K     |███████████▋                    | 890kB 4.6MB/s eta 0:00:01\r\u001b[K     |███████████▊                    | 901kB 4.6MB/s eta 0:00:01\r\u001b[K     |███████████▉                    | 911kB 4.6MB/s eta 0:00:01\r\u001b[K     |████████████                    | 921kB 4.6MB/s eta 0:00:01\r\u001b[K     |████████████▏                   | 931kB 4.6MB/s eta 0:00:01\r\u001b[K     |████████████▎                   | 942kB 4.6MB/s eta 0:00:01\r\u001b[K     |████████████▍                   | 952kB 4.6MB/s eta 0:00:01\r\u001b[K     |████████████▌                   | 962kB 4.6MB/s eta 0:00:01\r\u001b[K     |████████████▊                   | 972kB 4.6MB/s eta 0:00:01\r\u001b[K     |████████████▉                   | 983kB 4.6MB/s eta 0:00:01\r\u001b[K     |█████████████                   | 993kB 4.6MB/s eta 0:00:01\r\u001b[K     |█████████████                   | 1.0MB 4.6MB/s eta 0:00:01\r\u001b[K     |█████████████▏                  | 1.0MB 4.6MB/s eta 0:00:01\r\u001b[K     |█████████████▍                  | 1.0MB 4.6MB/s eta 0:00:01\r\u001b[K     |█████████████▌                  | 1.0MB 4.6MB/s eta 0:00:01\r\u001b[K     |█████████████▋                  | 1.0MB 4.6MB/s eta 0:00:01\r\u001b[K     |█████████████▊                  | 1.1MB 4.6MB/s eta 0:00:01\r\u001b[K     |█████████████▉                  | 1.1MB 4.6MB/s eta 0:00:01\r\u001b[K     |██████████████                  | 1.1MB 4.6MB/s eta 0:00:01\r\u001b[K     |██████████████▏                 | 1.1MB 4.6MB/s eta 0:00:01\r\u001b[K     |██████████████▎                 | 1.1MB 4.6MB/s eta 0:00:01\r\u001b[K     |██████████████▍                 | 1.1MB 4.6MB/s eta 0:00:01\r\u001b[K     |██████████████▌                 | 1.1MB 4.6MB/s eta 0:00:01\r\u001b[K     |██████████████▊                 | 1.1MB 4.6MB/s eta 0:00:01\r\u001b[K     |██████████████▉                 | 1.1MB 4.6MB/s eta 0:00:01\r\u001b[K     |███████████████                 | 1.1MB 4.6MB/s eta 0:00:01\r\u001b[K     |███████████████                 | 1.2MB 4.6MB/s eta 0:00:01\r\u001b[K     |███████████████▏                | 1.2MB 4.6MB/s eta 0:00:01\r\u001b[K     |███████████████▍                | 1.2MB 4.6MB/s eta 0:00:01\r\u001b[K     |███████████████▌                | 1.2MB 4.6MB/s eta 0:00:01\r\u001b[K     |███████████████▋                | 1.2MB 4.6MB/s eta 0:00:01\r\u001b[K     |███████████████▊                | 1.2MB 4.6MB/s eta 0:00:01\r\u001b[K     |███████████████▉                | 1.2MB 4.6MB/s eta 0:00:01\r\u001b[K     |████████████████                | 1.2MB 4.6MB/s eta 0:00:01\r\u001b[K     |████████████████▏               | 1.2MB 4.6MB/s eta 0:00:01\r\u001b[K     |████████████████▎               | 1.2MB 4.6MB/s eta 0:00:01\r\u001b[K     |████████████████▍               | 1.3MB 4.6MB/s eta 0:00:01\r\u001b[K     |████████████████▌               | 1.3MB 4.6MB/s eta 0:00:01\r\u001b[K     |████████████████▊               | 1.3MB 4.6MB/s eta 0:00:01\r\u001b[K     |████████████████▉               | 1.3MB 4.6MB/s eta 0:00:01\r\u001b[K     |█████████████████               | 1.3MB 4.6MB/s eta 0:00:01\r\u001b[K     |█████████████████               | 1.3MB 4.6MB/s eta 0:00:01\r\u001b[K     |█████████████████▏              | 1.3MB 4.6MB/s eta 0:00:01\r\u001b[K     |█████████████████▍              | 1.3MB 4.6MB/s eta 0:00:01\r\u001b[K     |█████████████████▌              | 1.3MB 4.6MB/s eta 0:00:01\r\u001b[K     |█████████████████▋              | 1.4MB 4.6MB/s eta 0:00:01\r\u001b[K     |█████████████████▊              | 1.4MB 4.6MB/s eta 0:00:01\r\u001b[K     |█████████████████▉              | 1.4MB 4.6MB/s eta 0:00:01\r\u001b[K     |██████████████████              | 1.4MB 4.6MB/s eta 0:00:01\r\u001b[K     |██████████████████▏             | 1.4MB 4.6MB/s eta 0:00:01\r\u001b[K     |██████████████████▎             | 1.4MB 4.6MB/s eta 0:00:01\r\u001b[K     |██████████████████▍             | 1.4MB 4.6MB/s eta 0:00:01\r\u001b[K     |██████████████████▌             | 1.4MB 4.6MB/s eta 0:00:01\r\u001b[K     |██████████████████▊             | 1.4MB 4.6MB/s eta 0:00:01\r\u001b[K     |██████████████████▉             | 1.4MB 4.6MB/s eta 0:00:01\r\u001b[K     |███████████████████             | 1.5MB 4.6MB/s eta 0:00:01\r\u001b[K     |███████████████████             | 1.5MB 4.6MB/s eta 0:00:01\r\u001b[K     |███████████████████▏            | 1.5MB 4.6MB/s eta 0:00:01\r\u001b[K     |███████████████████▍            | 1.5MB 4.6MB/s eta 0:00:01\r\u001b[K     |███████████████████▌            | 1.5MB 4.6MB/s eta 0:00:01\r\u001b[K     |███████████████████▋            | 1.5MB 4.6MB/s eta 0:00:01\r\u001b[K     |███████████████████▊            | 1.5MB 4.6MB/s eta 0:00:01\r\u001b[K     |███████████████████▉            | 1.5MB 4.6MB/s eta 0:00:01\r\u001b[K     |████████████████████            | 1.5MB 4.6MB/s eta 0:00:01\r\u001b[K     |████████████████████▏           | 1.5MB 4.6MB/s eta 0:00:01\r\u001b[K     |████████████████████▎           | 1.6MB 4.6MB/s eta 0:00:01\r\u001b[K     |████████████████████▍           | 1.6MB 4.6MB/s eta 0:00:01\r\u001b[K     |████████████████████▌           | 1.6MB 4.6MB/s eta 0:00:01\r\u001b[K     |████████████████████▊           | 1.6MB 4.6MB/s eta 0:00:01\r\u001b[K     |████████████████████▉           | 1.6MB 4.6MB/s eta 0:00:01\r\u001b[K     |█████████████████████           | 1.6MB 4.6MB/s eta 0:00:01\r\u001b[K     |█████████████████████           | 1.6MB 4.6MB/s eta 0:00:01\r\u001b[K     |█████████████████████▏          | 1.6MB 4.6MB/s eta 0:00:01\r\u001b[K     |█████████████████████▍          | 1.6MB 4.6MB/s eta 0:00:01\r\u001b[K     |█████████████████████▌          | 1.6MB 4.6MB/s eta 0:00:01\r\u001b[K     |█████████████████████▋          | 1.7MB 4.6MB/s eta 0:00:01\r\u001b[K     |█████████████████████▊          | 1.7MB 4.6MB/s eta 0:00:01\r\u001b[K     |█████████████████████▉          | 1.7MB 4.6MB/s eta 0:00:01\r\u001b[K     |██████████████████████          | 1.7MB 4.6MB/s eta 0:00:01\r\u001b[K     |██████████████████████▏         | 1.7MB 4.6MB/s eta 0:00:01\r\u001b[K     |██████████████████████▎         | 1.7MB 4.6MB/s eta 0:00:01\r\u001b[K     |██████████████████████▍         | 1.7MB 4.6MB/s eta 0:00:01\r\u001b[K     |██████████████████████▌         | 1.7MB 4.6MB/s eta 0:00:01\r\u001b[K     |██████████████████████▊         | 1.7MB 4.6MB/s eta 0:00:01\r\u001b[K     |██████████████████████▉         | 1.8MB 4.6MB/s eta 0:00:01\r\u001b[K     |███████████████████████         | 1.8MB 4.6MB/s eta 0:00:01\r\u001b[K     |███████████████████████         | 1.8MB 4.6MB/s eta 0:00:01\r\u001b[K     |███████████████████████▏        | 1.8MB 4.6MB/s eta 0:00:01\r\u001b[K     |███████████████████████▍        | 1.8MB 4.6MB/s eta 0:00:01\r\u001b[K     |███████████████████████▌        | 1.8MB 4.6MB/s eta 0:00:01\r\u001b[K     |███████████████████████▋        | 1.8MB 4.6MB/s eta 0:00:01\r\u001b[K     |███████████████████████▊        | 1.8MB 4.6MB/s eta 0:00:01\r\u001b[K     |███████████████████████▉        | 1.8MB 4.6MB/s eta 0:00:01\r\u001b[K     |████████████████████████        | 1.8MB 4.6MB/s eta 0:00:01\r\u001b[K     |████████████████████████▏       | 1.9MB 4.6MB/s eta 0:00:01\r\u001b[K     |████████████████████████▎       | 1.9MB 4.6MB/s eta 0:00:01\r\u001b[K     |████████████████████████▍       | 1.9MB 4.6MB/s eta 0:00:01\r\u001b[K     |████████████████████████▌       | 1.9MB 4.6MB/s eta 0:00:01\r\u001b[K     |████████████████████████▊       | 1.9MB 4.6MB/s eta 0:00:01\r\u001b[K     |████████████████████████▉       | 1.9MB 4.6MB/s eta 0:00:01\r\u001b[K     |█████████████████████████       | 1.9MB 4.6MB/s eta 0:00:01\r\u001b[K     |█████████████████████████       | 1.9MB 4.6MB/s eta 0:00:01\r\u001b[K     |█████████████████████████▏      | 1.9MB 4.6MB/s eta 0:00:01\r\u001b[K     |█████████████████████████▍      | 1.9MB 4.6MB/s eta 0:00:01\r\u001b[K     |█████████████████████████▌      | 2.0MB 28kB/s eta 0:00:18\r\u001b[K     |█████████████████████████▋      | 2.0MB 28kB/s eta 0:00:18\r\u001b[K     |█████████████████████████▊      | 2.0MB 28kB/s eta 0:00:17\r\u001b[K     |█████████████████████████▉      | 2.0MB 28kB/s eta 0:00:17\r\u001b[K     |██████████████████████████      | 2.0MB 28kB/s eta 0:00:16\r\u001b[K     |██████████████████████████▏     | 2.0MB 28kB/s eta 0:00:16\r\u001b[K     |██████████████████████████▎     | 2.0MB 28kB/s eta 0:00:16\r\u001b[K     |██████████████████████████▍     | 2.0MB 28kB/s eta 0:00:15\r\u001b[K     |██████████████████████████▌     | 2.0MB 28kB/s eta 0:00:15\r\u001b[K     |██████████████████████████▊     | 2.0MB 28kB/s eta 0:00:15\r\u001b[K     |██████████████████████████▉     | 2.1MB 28kB/s eta 0:00:14\r\u001b[K     |███████████████████████████     | 2.1MB 28kB/s eta 0:00:14\r\u001b[K     |███████████████████████████     | 2.1MB 28kB/s eta 0:00:14\r\u001b[K     |███████████████████████████▏    | 2.1MB 28kB/s eta 0:00:13\r\u001b[K     |███████████████████████████▍    | 2.1MB 28kB/s eta 0:00:13\r\u001b[K     |███████████████████████████▌    | 2.1MB 28kB/s eta 0:00:13\r\u001b[K     |███████████████████████████▋    | 2.1MB 28kB/s eta 0:00:12\r\u001b[K     |███████████████████████████▊    | 2.1MB 28kB/s eta 0:00:12\r\u001b[K     |███████████████████████████▉    | 2.1MB 28kB/s eta 0:00:12\r\u001b[K     |████████████████████████████    | 2.2MB 28kB/s eta 0:00:11\r\u001b[K     |████████████████████████████▏   | 2.2MB 28kB/s eta 0:00:11\r\u001b[K     |████████████████████████████▎   | 2.2MB 28kB/s eta 0:00:10\r\u001b[K     |████████████████████████████▍   | 2.2MB 28kB/s eta 0:00:10\r\u001b[K     |████████████████████████████▌   | 2.2MB 28kB/s eta 0:00:10\r\u001b[K     |████████████████████████████▊   | 2.2MB 28kB/s eta 0:00:09\r\u001b[K     |████████████████████████████▉   | 2.2MB 28kB/s eta 0:00:09\r\u001b[K     |█████████████████████████████   | 2.2MB 28kB/s eta 0:00:09\r\u001b[K     |█████████████████████████████   | 2.2MB 28kB/s eta 0:00:08\r\u001b[K     |█████████████████████████████▏  | 2.2MB 28kB/s eta 0:00:08\r\u001b[K     |█████████████████████████████▍  | 2.3MB 28kB/s eta 0:00:08\r\u001b[K     |█████████████████████████████▌  | 2.3MB 28kB/s eta 0:00:07\r\u001b[K     |█████████████████████████████▋  | 2.3MB 28kB/s eta 0:00:07\r\u001b[K     |█████████████████████████████▊  | 2.3MB 28kB/s eta 0:00:07\r\u001b[K     |█████████████████████████████▉  | 2.3MB 28kB/s eta 0:00:06\r\u001b[K     |██████████████████████████████  | 2.3MB 28kB/s eta 0:00:06\r\u001b[K     |██████████████████████████████▏ | 2.3MB 28kB/s eta 0:00:05\r\u001b[K     |██████████████████████████████▎ | 2.3MB 28kB/s eta 0:00:05\r\u001b[K     |██████████████████████████████▍ | 2.3MB 28kB/s eta 0:00:05\r\u001b[K     |██████████████████████████████▌ | 2.3MB 28kB/s eta 0:00:04\r\u001b[K     |██████████████████████████████▊ | 2.4MB 28kB/s eta 0:00:04\r\u001b[K     |██████████████████████████████▉ | 2.4MB 28kB/s eta 0:00:04\r\u001b[K     |███████████████████████████████ | 2.4MB 28kB/s eta 0:00:03\r\u001b[K     |███████████████████████████████ | 2.4MB 28kB/s eta 0:00:03\r\u001b[K     |███████████████████████████████▏| 2.4MB 28kB/s eta 0:00:03\r\u001b[K     |███████████████████████████████▍| 2.4MB 28kB/s eta 0:00:02\r\u001b[K     |███████████████████████████████▌| 2.4MB 28kB/s eta 0:00:02\r\u001b[K     |███████████████████████████████▋| 2.4MB 28kB/s eta 0:00:02\r\u001b[K     |███████████████████████████████▊| 2.4MB 28kB/s eta 0:00:01\r\u001b[K     |███████████████████████████████▉| 2.4MB 28kB/s eta 0:00:01\r\u001b[K     |████████████████████████████████| 2.5MB 28kB/s \n",
            "\u001b[?25hRequirement already satisfied: numpy>=1.11 in /usr/local/lib/python3.6/dist-packages (from nilearn) (1.18.5)\n",
            "Requirement already satisfied: scipy>=0.19 in /usr/local/lib/python3.6/dist-packages (from nilearn) (1.4.1)\n",
            "Requirement already satisfied: scikit-learn>=0.19 in /usr/local/lib/python3.6/dist-packages (from nilearn) (0.22.2.post1)\n",
            "Requirement already satisfied: sklearn in /usr/local/lib/python3.6/dist-packages (from nilearn) (0.0)\n",
            "Requirement already satisfied: nibabel>=2.0.2 in /usr/local/lib/python3.6/dist-packages (from nilearn) (3.0.2)\n",
            "Requirement already satisfied: joblib>=0.11 in /usr/local/lib/python3.6/dist-packages (from nilearn) (0.15.1)\n",
            "Installing collected packages: nilearn\n",
            "Successfully installed nilearn-0.6.2\n"
          ],
          "name": "stdout"
        }
      ]
    },
    {
      "cell_type": "code",
      "metadata": {
        "id": "fnLTNgBG7VzI",
        "colab_type": "code",
        "colab": {
          "base_uri": "https://localhost:8080/",
          "height": 34
        },
        "outputId": "1b16d905-fa08-4e84-e22b-6e9670a99d97"
      },
      "source": [
        "#import tensorflow as tf\n",
        "#from tensorflow import keras\n",
        "import matplotlib.pyplot as plt\n",
        "import glob\n",
        "import nibabel as nib\n",
        "from nilearn import plotting\n",
        "from keras.layers import Dense,Conv2D,Activation,Input,Flatten,Dropout,merge,Reshape,MaxPooling2D,UpSampling2D,Conv2DTranspose,Add,AveragePooling2D,Concatenate,SpatialDropout2D\n",
        "from keras.layers.normalization import BatchNormalization \n",
        "from keras.models import Model,Sequential\n",
        "from keras.callbacks import ModelCheckpoint,ReduceLROnPlateau\n",
        "from keras.initializers import glorot_uniform\n",
        "from keras.optimizers import Adadelta, RMSprop,SGD,Adam\n",
        "from keras.utils import *\n",
        "from keras import regularizers\n",
        "from keras import backend as K\n",
        "import numpy as np\n",
        "from keras.models import load_model\n",
        "import pickle"
      ],
      "execution_count": null,
      "outputs": [
        {
          "output_type": "stream",
          "text": [
            "Using TensorFlow backend.\n"
          ],
          "name": "stderr"
        }
      ]
    },
    {
      "cell_type": "code",
      "metadata": {
        "id": "GuqmS5fWTqoN",
        "colab_type": "code",
        "colab": {
          "base_uri": "https://localhost:8080/",
          "height": 104
        },
        "outputId": "7eeb7384-9454-47a4-bff2-469d4ee394ca"
      },
      "source": [
        "pip install SimpleITK"
      ],
      "execution_count": null,
      "outputs": [
        {
          "output_type": "stream",
          "text": [
            "Collecting SimpleITK\n",
            "\u001b[?25l  Downloading https://files.pythonhosted.org/packages/f8/d8/53338c34f71020725ffb3557846c80af96c29c03bc883551a2565aa68a7c/SimpleITK-1.2.4-cp36-cp36m-manylinux1_x86_64.whl (42.5MB)\n",
            "\u001b[K     |████████████████████████████████| 42.5MB 72kB/s \n",
            "\u001b[?25hInstalling collected packages: SimpleITK\n",
            "Successfully installed SimpleITK-1.2.4\n"
          ],
          "name": "stdout"
        }
      ]
    },
    {
      "cell_type": "code",
      "metadata": {
        "id": "OiTeWkdCTfWY",
        "colab_type": "code",
        "colab": {}
      },
      "source": [
        "import SimpleITK as sitk"
      ],
      "execution_count": null,
      "outputs": []
    },
    {
      "cell_type": "code",
      "metadata": {
        "id": "SNAp5aKSnnvJ",
        "colab_type": "code",
        "colab": {}
      },
      "source": [
        "flair_path = glob.glob('/content/drive/My Drive/HGG/flair/*')\n",
        "seg_path = glob.glob('/content/drive/My Drive/HGG/seg/*')\n",
        "t1_path = glob.glob('/content/drive/My Drive/HGG/t1/*')\n",
        "t1ce_path = glob.glob('/content/drive/My Drive/HGG/t1ce/*')\n",
        "t2_path   = glob.glob('/content/drive/My Drive/HGG/t2/*')"
      ],
      "execution_count": null,
      "outputs": []
    },
    {
      "cell_type": "markdown",
      "metadata": {
        "id": "23Grf3CAt_rG",
        "colab_type": "text"
      },
      "source": [
        "In seg file\n",
        "--------------\n",
        "Label 1: necrotic and non-enhancing tumor ; \n",
        "Label 2: edema ; \n",
        "Label 4: enhancing tumor; \n",
        "Label 0: background ; \n",
        "\n",
        "MRI\n",
        "-------\n",
        "whole/complete tumor: 1 2 4 ;\n",
        "core: 1 4 ;\n",
        "enhance: 4 ;"
      ]
    },
    {
      "cell_type": "code",
      "metadata": {
        "id": "5qhECSLIDrNX",
        "colab_type": "code",
        "colab": {
          "base_uri": "https://localhost:8080/",
          "height": 34
        },
        "outputId": "cda87ab7-e6ee-438b-9272-8dfee780fff3"
      },
      "source": [
        "print(len(flair_path))"
      ],
      "execution_count": null,
      "outputs": [
        {
          "output_type": "stream",
          "text": [
            "259\n"
          ],
          "name": "stdout"
        }
      ]
    },
    {
      "cell_type": "markdown",
      "metadata": {
        "id": "R6BuEzAekSRK",
        "colab_type": "text"
      },
      "source": [
        "1)Appending all the alternate slices of each modality in X_flair, X_t1, X_t1ce ,X_t2 and X_seg.\n",
        "\n"
      ]
    },
    {
      "cell_type": "markdown",
      "metadata": {
        "id": "1Be9UROIlCpd",
        "colab_type": "text"
      },
      "source": [
        "2) Converting them into array and then normalization \n"
      ]
    },
    {
      "cell_type": "code",
      "metadata": {
        "id": "z-bdXPY2XcML",
        "colab_type": "code",
        "colab": {
          "base_uri": "https://localhost:8080/",
          "height": 34
        },
        "outputId": "0a78b4f6-ff58-4136-f968-534b5c787d15"
      },
      "source": [
        "X_flair=[]\n",
        "for i in range(len(flair_path)):\n",
        "    a = sitk.ReadImage(flair_path[i])\n",
        "    a = sitk.GetArrayFromImage(a)\n",
        "    for j in range(25):\n",
        "        X_flair.append((a[50+2*j,:,:]))\n",
        "print(np.shape(X_flair))"
      ],
      "execution_count": null,
      "outputs": [
        {
          "output_type": "stream",
          "text": [
            "(6475, 240, 240)\n"
          ],
          "name": "stdout"
        }
      ]
    },
    {
      "cell_type": "code",
      "metadata": {
        "id": "PVvCGpG3eiWH",
        "colab_type": "code",
        "colab": {
          "base_uri": "https://localhost:8080/",
          "height": 34
        },
        "outputId": "e513394f-c77a-456c-8cbf-8591f9b22ae5"
      },
      "source": [
        "X_flair = np.asarray(X_flair).astype(np.float32)\n",
        "print(X_flair.shape)"
      ],
      "execution_count": null,
      "outputs": [
        {
          "output_type": "stream",
          "text": [
            "(6475, 240, 240)\n"
          ],
          "name": "stdout"
        }
      ]
    },
    {
      "cell_type": "code",
      "metadata": {
        "id": "qV4wgbN-R5XS",
        "colab_type": "code",
        "colab": {
          "base_uri": "https://localhost:8080/",
          "height": 34
        },
        "outputId": "7a08f0f0-8fca-4b78-c9da-d07342fce6aa"
      },
      "source": [
        "mean = X_flair.mean()\n",
        "std = X_flair.std()\n",
        "X_flair = (X_flair - mean)/(std + 1e-8)\n",
        "np.min(X_flair), np.max(X_flair)"
      ],
      "execution_count": null,
      "outputs": [
        {
          "output_type": "execute_result",
          "data": {
            "text/plain": [
              "(-0.46841258, 16.260946)"
            ]
          },
          "metadata": {
            "tags": []
          },
          "execution_count": 10
        }
      ]
    },
    {
      "cell_type": "code",
      "metadata": {
        "id": "FUCq69-HaXIY",
        "colab_type": "code",
        "colab": {
          "base_uri": "https://localhost:8080/",
          "height": 34
        },
        "outputId": "b25a8306-3cae-4fd3-a892-2916158d6704"
      },
      "source": [
        "X_t1=[]\n",
        "for i in range(len(t1_path)):\n",
        "    a = sitk.ReadImage(t1_path[i])\n",
        "    a = sitk.GetArrayFromImage(a)\n",
        "    for j in range(25):\n",
        "        X_t1.append((a[50+2*j,:,:]))\n",
        "print(np.shape(X_t1))"
      ],
      "execution_count": null,
      "outputs": [
        {
          "output_type": "stream",
          "text": [
            "(6475, 240, 240)\n"
          ],
          "name": "stdout"
        }
      ]
    },
    {
      "cell_type": "code",
      "metadata": {
        "id": "jTw7cJrgesV_",
        "colab_type": "code",
        "colab": {
          "base_uri": "https://localhost:8080/",
          "height": 34
        },
        "outputId": "7f60d861-6499-4d1f-cfd5-8498f5460902"
      },
      "source": [
        "X_t1 = np.asarray(X_t1).astype(np.float32)\n",
        "print(X_t1.shape)"
      ],
      "execution_count": null,
      "outputs": [
        {
          "output_type": "stream",
          "text": [
            "(6475, 240, 240)\n"
          ],
          "name": "stdout"
        }
      ]
    },
    {
      "cell_type": "code",
      "metadata": {
        "id": "2iVC59neTrvF",
        "colab_type": "code",
        "colab": {
          "base_uri": "https://localhost:8080/",
          "height": 34
        },
        "outputId": "ce3d3c45-e8b0-4bff-c419-6d56bc86980c"
      },
      "source": [
        "mean = X_t1.mean()\n",
        "std = X_t1.std()\n",
        "X_t1 = (X_t1 - mean)/(std + 1e-8)\n",
        "np.min(X_t1), np.max(X_t1)"
      ],
      "execution_count": null,
      "outputs": [
        {
          "output_type": "execute_result",
          "data": {
            "text/plain": [
              "(-0.41608155, 24.9923)"
            ]
          },
          "metadata": {
            "tags": []
          },
          "execution_count": 13
        }
      ]
    },
    {
      "cell_type": "code",
      "metadata": {
        "id": "gyL84efyaX5J",
        "colab_type": "code",
        "colab": {
          "base_uri": "https://localhost:8080/",
          "height": 34
        },
        "outputId": "416484af-45ce-43d5-b263-d900cc3f7230"
      },
      "source": [
        "X_t1ce=[]\n",
        "for i in range(len(t1ce_path)):\n",
        "    a = sitk.ReadImage(t1ce_path[i])\n",
        "    a = sitk.GetArrayFromImage(a)\n",
        "    for j in range(25):\n",
        "        X_t1ce.append((a[50+2*j,:,:]))\n",
        "print(np.shape(X_t1ce))"
      ],
      "execution_count": null,
      "outputs": [
        {
          "output_type": "stream",
          "text": [
            "(6475, 240, 240)\n"
          ],
          "name": "stdout"
        }
      ]
    },
    {
      "cell_type": "code",
      "metadata": {
        "id": "BLIQ7qI2fCdS",
        "colab_type": "code",
        "colab": {
          "base_uri": "https://localhost:8080/",
          "height": 34
        },
        "outputId": "879bdc26-e897-4015-b45c-13a4f187954a"
      },
      "source": [
        "X_t1ce = np.asarray(X_t1ce).astype(np.float32)\n",
        "print(X_t1ce.shape)"
      ],
      "execution_count": null,
      "outputs": [
        {
          "output_type": "stream",
          "text": [
            "(6475, 240, 240)\n"
          ],
          "name": "stdout"
        }
      ]
    },
    {
      "cell_type": "code",
      "metadata": {
        "id": "Juy5PSNFT5AK",
        "colab_type": "code",
        "colab": {
          "base_uri": "https://localhost:8080/",
          "height": 34
        },
        "outputId": "c6dc8965-3410-4796-a52d-d4b9a222af17"
      },
      "source": [
        "mean = X_t1ce.mean()\n",
        "std = X_t1ce.std()\n",
        "X_t1ce = (X_t1ce - mean)/(std + 1e-8)\n",
        "np.min(X_t1ce), np.max(X_t1ce)"
      ],
      "execution_count": null,
      "outputs": [
        {
          "output_type": "execute_result",
          "data": {
            "text/plain": [
              "(-0.4047665, 31.285044)"
            ]
          },
          "metadata": {
            "tags": []
          },
          "execution_count": 16
        }
      ]
    },
    {
      "cell_type": "code",
      "metadata": {
        "id": "hj3lJ9Eua2vQ",
        "colab_type": "code",
        "colab": {
          "base_uri": "https://localhost:8080/",
          "height": 34
        },
        "outputId": "27ee4d7d-0173-45f9-f0b6-1787f2a4440d"
      },
      "source": [
        "X_t2=[]\n",
        "for i in range(len(t2_path)):\n",
        "    a = sitk.ReadImage(t2_path[i])\n",
        "    a = sitk.GetArrayFromImage(a)\n",
        "    for j in range(25):\n",
        "        X_t2.append((a[50+2*j,:,:]))\n",
        "print(np.shape(X_t2))"
      ],
      "execution_count": null,
      "outputs": [
        {
          "output_type": "stream",
          "text": [
            "(6475, 240, 240)\n"
          ],
          "name": "stdout"
        }
      ]
    },
    {
      "cell_type": "code",
      "metadata": {
        "id": "T1rNbpX-fH7L",
        "colab_type": "code",
        "colab": {
          "base_uri": "https://localhost:8080/",
          "height": 34
        },
        "outputId": "5552a747-f32e-4011-c1af-56748963ebd8"
      },
      "source": [
        "X_t2 = np.asarray(X_t2).astype(np.float32)\n",
        "print(X_t2.shape)"
      ],
      "execution_count": null,
      "outputs": [
        {
          "output_type": "stream",
          "text": [
            "(6475, 240, 240)\n"
          ],
          "name": "stdout"
        }
      ]
    },
    {
      "cell_type": "code",
      "metadata": {
        "id": "ynOIXHD0UFkV",
        "colab_type": "code",
        "colab": {
          "base_uri": "https://localhost:8080/",
          "height": 34
        },
        "outputId": "25ecd610-f11d-459d-8248-f8ecd33a9b9e"
      },
      "source": [
        "mean = X_t2.mean()\n",
        "std = X_t2.std()\n",
        "X_t2 = (X_t2 - mean)/(std + 1e-8)\n",
        "np.min(X_t2), np.max(X_t2)"
      ],
      "execution_count": null,
      "outputs": [
        {
          "output_type": "execute_result",
          "data": {
            "text/plain": [
              "(-0.42582026, 35.94511)"
            ]
          },
          "metadata": {
            "tags": []
          },
          "execution_count": 19
        }
      ]
    },
    {
      "cell_type": "code",
      "metadata": {
        "id": "oXuqfN6dbLp_",
        "colab_type": "code",
        "colab": {
          "base_uri": "https://localhost:8080/",
          "height": 34
        },
        "outputId": "7145ccc5-c2a9-488f-a3fa-d7ee57d3c4ce"
      },
      "source": [
        "X_seg=[]\n",
        "for i in range(len(seg_path)):\n",
        "    a = sitk.ReadImage(seg_path[i])\n",
        "    a = sitk.GetArrayFromImage(a)\n",
        "    for j in range(25):\n",
        "        X_seg.append((a[50+2*j,:,:]))\n",
        "print(np.shape(X_seg))"
      ],
      "execution_count": null,
      "outputs": [
        {
          "output_type": "stream",
          "text": [
            "(6475, 240, 240)\n"
          ],
          "name": "stdout"
        }
      ]
    },
    {
      "cell_type": "code",
      "metadata": {
        "id": "-aV-yA6gcRXu",
        "colab_type": "code",
        "colab": {}
      },
      "source": [
        "X_seg = np.asarray(X_seg).astype(np.float32)"
      ],
      "execution_count": null,
      "outputs": []
    },
    {
      "cell_type": "code",
      "metadata": {
        "id": "bBVPBlRp6tLB",
        "colab_type": "code",
        "colab": {}
      },
      "source": [
        "data = np.zeros((X_flair.shape[0],240,240,4))\n",
        "for i in range(data.shape[0]):\n",
        "    data[i,:,:,0] = X_flair[i,:,:]\n",
        "    data[i,:,:,1] = X_t1[i,:,:]\n",
        "    data[i,:,:,2] = X_t1ce[i,:,:]\n",
        "    data[i,:,:,3] = X_t2[i,:,:]"
      ],
      "execution_count": null,
      "outputs": []
    },
    {
      "cell_type": "code",
      "metadata": {
        "id": "AIjHDWaV79eC",
        "colab_type": "code",
        "colab": {
          "base_uri": "https://localhost:8080/",
          "height": 34
        },
        "outputId": "f177d7e3-3764-441f-8951-7d2bc50f0d44"
      },
      "source": [
        "print(np.shape(data))"
      ],
      "execution_count": null,
      "outputs": [
        {
          "output_type": "stream",
          "text": [
            "(6475, 240, 240, 4)\n"
          ],
          "name": "stdout"
        }
      ]
    },
    {
      "cell_type": "code",
      "metadata": {
        "id": "9Y6vymfxD_cF",
        "colab_type": "code",
        "colab": {}
      },
      "source": [
        "# to save the memory delete the variables later\n",
        "del X_flair\n",
        "del X_t1\n",
        "del X_t2\n",
        "del X_t1ce"
      ],
      "execution_count": null,
      "outputs": []
    },
    {
      "cell_type": "code",
      "metadata": {
        "id": "GLaqcxM6cVrF",
        "colab_type": "code",
        "colab": {
          "base_uri": "https://localhost:8080/",
          "height": 34
        },
        "outputId": "de06d09f-a595-414f-9d74-e501c3b59096"
      },
      "source": [
        "print(np.unique(X_seg))"
      ],
      "execution_count": null,
      "outputs": [
        {
          "output_type": "stream",
          "text": [
            "[0. 1. 2. 4.]\n"
          ],
          "name": "stdout"
        }
      ]
    },
    {
      "cell_type": "code",
      "metadata": {
        "id": "qXMxghqIBW8u",
        "colab_type": "code",
        "colab": {}
      },
      "source": [
        "X_seg[X_seg == 4] = 3"
      ],
      "execution_count": null,
      "outputs": []
    },
    {
      "cell_type": "code",
      "metadata": {
        "id": "H0tI1I6G8x0z",
        "colab_type": "code",
        "colab": {
          "base_uri": "https://localhost:8080/",
          "height": 34
        },
        "outputId": "ad4f1e9b-6faa-4f43-9cf6-6911410c3d43"
      },
      "source": [
        "print(np.unique(X_seg))"
      ],
      "execution_count": null,
      "outputs": [
        {
          "output_type": "stream",
          "text": [
            "[0. 1. 2. 3.]\n"
          ],
          "name": "stdout"
        }
      ]
    },
    {
      "cell_type": "code",
      "metadata": {
        "id": "gbwIiU95RlHO",
        "colab_type": "code",
        "colab": {
          "base_uri": "https://localhost:8080/",
          "height": 34
        },
        "outputId": "e7beb8bb-8445-49da-ef98-62e9978eb3ce"
      },
      "source": [
        "print(X_seg.shape)"
      ],
      "execution_count": null,
      "outputs": [
        {
          "output_type": "stream",
          "text": [
            "(6475, 240, 240)\n"
          ],
          "name": "stdout"
        }
      ]
    },
    {
      "cell_type": "code",
      "metadata": {
        "id": "iMmO-RWj23zP",
        "colab_type": "code",
        "colab": {
          "base_uri": "https://localhost:8080/",
          "height": 34
        },
        "outputId": "c854cc47-e15f-4c09-c2ef-cb783ed495ea"
      },
      "source": [
        "gt = to_categorical(X_seg, num_classes=None)\n",
        "print(gt.shape)"
      ],
      "execution_count": null,
      "outputs": [
        {
          "output_type": "stream",
          "text": [
            "(6475, 240, 240, 4)\n"
          ],
          "name": "stdout"
        }
      ]
    },
    {
      "cell_type": "code",
      "metadata": {
        "id": "PqPY9vYCbkKN",
        "colab_type": "code",
        "colab": {
          "base_uri": "https://localhost:8080/",
          "height": 52
        },
        "outputId": "6da924ee-ed98-470a-9805-d6fc0fc2f9ed"
      },
      "source": [
        "print(data.shape)\n",
        "print(gt.shape)"
      ],
      "execution_count": null,
      "outputs": [
        {
          "output_type": "stream",
          "text": [
            "(6475, 240, 240, 4)\n",
            "(6475, 240, 240, 4)\n"
          ],
          "name": "stdout"
        }
      ]
    },
    {
      "cell_type": "code",
      "metadata": {
        "id": "GxQVciKQMGff",
        "colab_type": "code",
        "colab": {}
      },
      "source": [
        "del X_seg"
      ],
      "execution_count": null,
      "outputs": []
    },
    {
      "cell_type": "code",
      "metadata": {
        "id": "v7bwqkTZ8w8V",
        "colab_type": "code",
        "colab": {}
      },
      "source": [
        "#splitting the dataset into training, testing and validation data\n",
        "X_train = data[:4700]\n",
        "X_valid = data[4700:5475]\n",
        "X_test  = data[5475:]"
      ],
      "execution_count": null,
      "outputs": []
    },
    {
      "cell_type": "code",
      "metadata": {
        "id": "sVT3veDz8_qP",
        "colab_type": "code",
        "colab": {
          "base_uri": "https://localhost:8080/",
          "height": 69
        },
        "outputId": "924f1d88-abac-48fb-9653-b72f5707114b"
      },
      "source": [
        "print(X_train.shape)\n",
        "print(X_valid.shape)\n",
        "print(X_test.shape)"
      ],
      "execution_count": null,
      "outputs": [
        {
          "output_type": "stream",
          "text": [
            "(4700, 240, 240, 4)\n",
            "(775, 240, 240, 4)\n",
            "(1000, 240, 240, 4)\n"
          ],
          "name": "stdout"
        }
      ]
    },
    {
      "cell_type": "code",
      "metadata": {
        "id": "n3GG1hV11Alk",
        "colab_type": "code",
        "colab": {}
      },
      "source": [
        "Y_train = gt[:4700]\n",
        "Y_valid = gt[4700:5475]\n",
        "Y_test  = gt[5475:]"
      ],
      "execution_count": null,
      "outputs": []
    },
    {
      "cell_type": "code",
      "metadata": {
        "id": "WHhDzRzI1AgI",
        "colab_type": "code",
        "colab": {
          "base_uri": "https://localhost:8080/",
          "height": 69
        },
        "outputId": "8f7ef946-9fda-4762-90a1-361c865eff93"
      },
      "source": [
        "print(Y_train.shape)\n",
        "print(Y_valid.shape)\n",
        "print(Y_test.shape)"
      ],
      "execution_count": null,
      "outputs": [
        {
          "output_type": "stream",
          "text": [
            "(4700, 240, 240, 4)\n",
            "(775, 240, 240, 4)\n",
            "(1000, 240, 240, 4)\n"
          ],
          "name": "stdout"
        }
      ]
    },
    {
      "cell_type": "markdown",
      "metadata": {
        "id": "UfXfDNFrlsaJ",
        "colab_type": "text"
      },
      "source": [
        "PREPROCESSING OF DATA"
      ]
    },
    {
      "cell_type": "code",
      "metadata": {
        "id": "4Is_BJ-95Q1-",
        "colab_type": "code",
        "colab": {}
      },
      "source": [
        "from keras.preprocessing.image import ImageDataGenerator"
      ],
      "execution_count": null,
      "outputs": []
    },
    {
      "cell_type": "code",
      "metadata": {
        "id": "aaqOzNkf5Qwi",
        "colab_type": "code",
        "colab": {}
      },
      "source": [
        "image_datagen = ImageDataGenerator(rotation_range=10,\n",
        "                                    horizontal_flip=True,\n",
        "                                    vertical_flip=True,\n",
        "                                    width_shift_range=0.1,\n",
        "                                    height_shift_range=0.1,\n",
        "                                    shear_range=0.1,\n",
        "                                    zoom_range=0.1)\n",
        "mask_datagen = ImageDataGenerator(rotation_range=10,\n",
        "                                    horizontal_flip=True,\n",
        "                                    vertical_flip=True,\n",
        "                                    width_shift_range=0.1,\n",
        "                                    height_shift_range=0.1,\n",
        "                                    shear_range=0.1,\n",
        "                                    zoom_range=0.1)"
      ],
      "execution_count": null,
      "outputs": []
    },
    {
      "cell_type": "code",
      "metadata": {
        "id": "Y9w5WRqw6QUV",
        "colab_type": "code",
        "colab": {}
      },
      "source": [
        "seed = 1"
      ],
      "execution_count": null,
      "outputs": []
    },
    {
      "cell_type": "code",
      "metadata": {
        "id": "qq3hnaN65QlT",
        "colab_type": "code",
        "colab": {}
      },
      "source": [
        "image_generator = image_datagen.flow(X_train, batch_size=12, seed=seed)"
      ],
      "execution_count": null,
      "outputs": []
    },
    {
      "cell_type": "code",
      "metadata": {
        "id": "5w6_Z0Gi6w-R",
        "colab_type": "code",
        "colab": {}
      },
      "source": [
        "mask_generator = mask_datagen.flow(Y_train, batch_size=12, seed=seed)"
      ],
      "execution_count": null,
      "outputs": []
    },
    {
      "cell_type": "code",
      "metadata": {
        "id": "Hi2jYQ9z6w7A",
        "colab_type": "code",
        "colab": {}
      },
      "source": [
        "train_generator = zip(image_generator, mask_generator)"
      ],
      "execution_count": null,
      "outputs": []
    },
    {
      "cell_type": "code",
      "metadata": {
        "id": "yCYze_RGN_s4",
        "colab_type": "code",
        "colab": {}
      },
      "source": [
        "batch_size = 12\n",
        "image_size = 240\n",
        "epochs = 100\n",
        "inChannel = 4\n",
        "x, y = 240, 240\n",
        "input_img = Input(shape = (x, y, inChannel))"
      ],
      "execution_count": null,
      "outputs": []
    }
  ]
}