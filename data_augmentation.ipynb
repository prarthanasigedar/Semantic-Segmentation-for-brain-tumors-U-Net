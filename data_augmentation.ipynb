{
  "nbformat": 4,
  "nbformat_minor": 0,
  "metadata": {
    "colab": {
      "name": "data_augmentation.ipynb",
      "provenance": [],
      "collapsed_sections": [],
      "toc_visible": true,
      "machine_shape": "hm",
      "include_colab_link": true
    },
    "kernelspec": {
      "name": "python3",
      "display_name": "Python 3"
    },
    "accelerator": "GPU"
  },
  "cells": [
    {
      "cell_type": "markdown",
      "metadata": {
        "id": "view-in-github",
        "colab_type": "text"
      },
      "source": [
        "<a href=\"https://colab.research.google.com/github/prarthanasigedar/Semantic-Segmentation-for-brain-tumors-U-Net/blob/master/data_augmentation.ipynb\" target=\"_parent\"><img src=\"https://colab.research.google.com/assets/colab-badge.svg\" alt=\"Open In Colab\"/></a>"
      ]
    },
    {
      "cell_type": "markdown",
      "metadata": {
        "id": "UfXfDNFrlsaJ",
        "colab_type": "text"
      },
      "source": [
        "\n",
        "\n",
        "```\n",
        "# This is formatted as code\n",
        "`AUGMENTATION OF DATA"
      ]
    },
    {
      "cell_type": "code",
      "metadata": {
        "id": "4Is_BJ-95Q1-",
        "colab_type": "code",
        "colab": {}
      },
      "source": [
        "from keras.preprocessing.image import ImageDataGenerator"
      ],
      "execution_count": null,
      "outputs": []
    },
    {
      "cell_type": "code",
      "metadata": {
        "id": "aaqOzNkf5Qwi",
        "colab_type": "code",
        "colab": {}
      },
      "source": [
        "image_datagen = ImageDataGenerator(rotation_range=10,\n",
        "                                    horizontal_flip=True,\n",
        "                                    vertical_flip=True,\n",
        "                                    width_shift_range=0.1,\n",
        "                                    height_shift_range=0.1,\n",
        "                                    shear_range=0.1,\n",
        "                                    zoom_range=0.1)\n",
        "mask_datagen = ImageDataGenerator(rotation_range=10,\n",
        "                                    horizontal_flip=True,\n",
        "                                    vertical_flip=True,\n",
        "                                    width_shift_range=0.1,\n",
        "                                    height_shift_range=0.1,\n",
        "                                    shear_range=0.1,\n",
        "                                    zoom_range=0.1)"
      ],
      "execution_count": null,
      "outputs": []
    },
    {
      "cell_type": "code",
      "metadata": {
        "id": "Y9w5WRqw6QUV",
        "colab_type": "code",
        "colab": {}
      },
      "source": [
        "seed = 1"
      ],
      "execution_count": null,
      "outputs": []
    },
    {
      "cell_type": "code",
      "metadata": {
        "id": "qq3hnaN65QlT",
        "colab_type": "code",
        "colab": {}
      },
      "source": [
        "image_generator = image_datagen.flow(X_train, batch_size=12, seed=seed) #X_Train = Training_images"
      ],
      "execution_count": null,
      "outputs": []
    },
    {
      "cell_type": "code",
      "metadata": {
        "id": "5w6_Z0Gi6w-R",
        "colab_type": "code",
        "colab": {}
      },
      "source": [
        "mask_generator = mask_datagen.flow(Y_train, batch_size=12, seed=seed)  #Y_Train = Ground_truth"
      ],
      "execution_count": null,
      "outputs": []
    },
    {
      "cell_type": "code",
      "metadata": {
        "id": "Hi2jYQ9z6w7A",
        "colab_type": "code",
        "colab": {}
      },
      "source": [
        "train_generator = zip(image_generator, mask_generator)"
      ],
      "execution_count": null,
      "outputs": []
    },
    {
      "cell_type": "code",
      "metadata": {
        "id": "yCYze_RGN_s4",
        "colab_type": "code",
        "colab": {}
      },
      "source": [
        "batch_size = 12\n",
        "image_size = 240\n",
        "epochs = 100\n",
        "inChannel = 4\n",
        "x, y = 240, 240\n",
        "input_img = Input(shape = (x, y, inChannel))"
      ],
      "execution_count": null,
      "outputs": []
    }
  ]
}